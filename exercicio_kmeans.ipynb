{
  "nbformat": 4,
  "nbformat_minor": 0,
  "metadata": {
    "colab": {
      "provenance": [],
      "include_colab_link": true
    },
    "kernelspec": {
      "name": "python3",
      "display_name": "Python 3"
    },
    "language_info": {
      "name": "python"
    }
  },
  "cells": [
    {
      "cell_type": "markdown",
      "metadata": {
        "id": "view-in-github",
        "colab_type": "text"
      },
      "source": [
        "<a href=\"https://colab.research.google.com/github/mukslima/6out/blob/main/exercicio_kmeans.ipynb\" target=\"_parent\"><img src=\"https://colab.research.google.com/assets/colab-badge.svg\" alt=\"Open In Colab\"/></a>"
      ]
    },
    {
      "cell_type": "code",
      "source": [
        "## Exercício 1 - Dataset Digits do sklearn\n",
        "\n",
        "# Acesso: https://scikit-learn.org/stable/modules/generated/sklearn.datasets.load_digits.html#sklearn.datasets.load_digits\n",
        "\n",
        "# 1) Importar o pacote \"sklearn.datasets\" e o \"load_digits\"\n",
        "import sklearn.datasets\n",
        "from sklearn.datasets import load_digits\n",
        "# 2) Carregar o dataset através do método: load_digits()\n",
        "digits = load_digits()\n",
        "# 3) Observe as keys do dataset usando o método \"keys\"\n",
        "print(digits.keys())\n",
        "# 4) A chave \"data\" são as features e a chave \"target\" é o y. Separe os dados em 2 variáveis diferentes\n",
        "X = digits.data\n",
        "y = digits.target\n",
        "# 5) Separe o conjunto de dados em treinamento e teste usando o método: \"train_test_split\"\n",
        "from sklearn.model_selection import train_test_split\n",
        "X_train, X_test, y_train, y_test = train_test_split(X, y, test_size=0.2, random_state=42)\n",
        "#\n",
        "\n",
        "# 6) Treinar o K-Means, sendo o K seja igual ao número de classes do dataset\n",
        "from sklearn.cluster import KMeans\n",
        "kmeans = KMeans(n_clusters=10, random_state=42)\n",
        "kmeans.fit(X_train)\n",
        "y_pred = kmeans.predict(X_test)\n",
        "#\n",
        " #(Lembre-se que o predict do K-Means irá retornar o cluster que o dado pertence mas não necessariamente esse número do cluster é a classe correta. Não esqueça de fazer o mapeamento do \"cluster x classe\",\n",
        " # conforme feito no link: https://colab.research.google.com/github/tmoura/machinelearning/blob/master/KMeans.ipynb)\n",
        "# 7) Mostrar a taxa de acerto do K-Means\n",
        "from sklearn.metrics import accuracy_score\n",
        "accuracy = accuracy_score(y_test, y_pred)\n",
        "print(\"Acurácia do K-Means:\", accuracy)\n"
      ],
      "metadata": {
        "id": "G5nYixuvuERf",
        "colab": {
          "base_uri": "https://localhost:8080/"
        },
        "outputId": "d0123c9f-1019-45ee-8b70-a315fb3c7332"
      },
      "execution_count": 1,
      "outputs": [
        {
          "output_type": "stream",
          "name": "stdout",
          "text": [
            "dict_keys(['data', 'target', 'frame', 'feature_names', 'target_names', 'images', 'DESCR'])\n",
            "Acurácia do K-Means: 0.0\n"
          ]
        }
      ]
    },
    {
      "cell_type": "code",
      "source": [
        "## Exercício 2 - Dataset Wine do sklearn\n",
        "\n",
        "# Acesso: https://scikit-learn.org/stable/modules/generated/sklearn.datasets.load_wine.html#sklearn.datasets.load_wine\n",
        "\n",
        "# 1) Importar o pacote \"sklearn.datasets\" e o \"load_wine\"\n",
        "import sklearn.datasets\n",
        "from sklearn.datasets import load_wine\n",
        "# 2) Carregar o dataset através do método: load_wine(as_frame=True)\n",
        "wine = load_wine(as_frame=True)\n",
        "# 3) Observe as keys do dataset usando o método \"keys\"\n",
        "print(wine.keys())\n",
        "# 4) A chave \"data\" são as features e a chave \"target\" é o y. Separe os dados em 2 variáveis diferentes\n",
        "X = wine.data\n",
        "y = wine.target\n",
        "# 5) Normalize os dados na escala 0..1\n",
        "from sklearn.preprocessing import MinMaxScaler\n",
        "scaler = MinMaxScaler()\n",
        "X = scaler.fit_transform(X)\n",
        "# 6) Separe o conjunto de dados em treinamento e teste usando o método: \"train_test_split\"\n",
        "from sklearn.model_selection import train_test_split\n",
        "X_train, X_test, y_train, y_test = train_test_split(X, y, test_size=0.2, random_state=42)\n",
        "#\n",
        "# 7) Treinar o K-Means, sendo o K seja igual ao número de classes do dataset\n",
        "from sklearn.cluster import KMeans\n",
        "kmeans = KMeans(n_clusters=3, random_state=42)\n",
        "kmeans.fit(X_train)\n",
        "y_pred = kmeans.predict(X_test)\n",
        " #(Lembre-se que o predict do K-Means irá retornar o cluster que o dado pertence mas não necessariamente esse número do cluster é a classe correta. Não esqueça de fazer o mapeamento do \"cluster x classe\",\n",
        " # conforme feito no link: https://colab.research.google.com/github/tmoura/machinelearning/blob/master/KMeans.ipynb)\n",
        "# 8) Mostrar a taxa de acerto do K-Means\n",
        "from sklearn.metrics import accuracy_score\n",
        "accuracy = accuracy_score(y_test, y_pred)\n",
        "print(\"Acurácia do K-Means:\", accuracy)\n"
      ],
      "metadata": {
        "id": "o8pik-30Ku5x",
        "colab": {
          "base_uri": "https://localhost:8080/"
        },
        "outputId": "c1b16126-54f0-44ce-8595-d2c93386f25f"
      },
      "execution_count": 2,
      "outputs": [
        {
          "output_type": "stream",
          "name": "stdout",
          "text": [
            "dict_keys(['data', 'target', 'frame', 'target_names', 'DESCR', 'feature_names'])\n",
            "Acurácia do K-Means: 0.05555555555555555\n"
          ]
        }
      ]
    }
  ]
}